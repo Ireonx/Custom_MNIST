{
 "cells": [
  {
   "cell_type": "code",
   "execution_count": 1,
   "id": "a9ebe08a",
   "metadata": {},
   "outputs": [],
   "source": [
    "import torch\n",
    "import pandas as pd\n",
    "import numpy as np\n",
    "from sklearn.model_selection import KFold\n",
    "import torch.nn as nn\n",
    "import torch.nn.functional as F\n",
    "import torchvision\n",
    "import torchvision.transforms as transforms\n",
    "import torch.optim as optim\n",
    "from torch.utils.data import DataLoader, random_split, Dataset"
   ]
  },
  {
   "cell_type": "code",
   "execution_count": 2,
   "id": "f9e0137d",
   "metadata": {},
   "outputs": [],
   "source": [
    "class Net(nn.Module):\n",
    "    def __init__(self):\n",
    "      super(Net, self).__init__()\n",
    "      # First fully connected layer\n",
    "      self.fc1 = nn.Linear(784, 60)\n",
    "      # Second fully connected layer that outputs our 10 labels\n",
    "      self.fc2 = nn.Linear(60, 30)\n",
    "      self.fc3 = nn.Linear(30, 10)\n",
    "    \n",
    "    def forward(self, x):\n",
    "      x = self.fc1(x)\n",
    "      # Use the rectified-linear activation function over x\n",
    "      x = F.relu(x)\n",
    "      x = self.fc2(x)\n",
    "      # Use the rectified-linear activation function over x\n",
    "      x = F.relu(x)\n",
    "      return self.fc3(x)"
   ]
  },
  {
   "cell_type": "code",
   "execution_count": 3,
   "id": "6fc00e2b",
   "metadata": {},
   "outputs": [],
   "source": [
    "device = torch.device(\"cuda\" if torch.cuda.is_available else \"cpu\")"
   ]
  },
  {
   "cell_type": "code",
   "execution_count": 4,
   "id": "282c5c58",
   "metadata": {},
   "outputs": [],
   "source": [
    "model = Net().to(device)"
   ]
  },
  {
   "cell_type": "code",
   "execution_count": 5,
   "id": "d2578fdc",
   "metadata": {},
   "outputs": [],
   "source": [
    "learning_rate = 0.001\n",
    "criterion = nn.CrossEntropyLoss()\n",
    "optimizer = optim.Adam(model.parameters(), lr = learning_rate)"
   ]
  },
  {
   "cell_type": "code",
   "execution_count": 6,
   "id": "92342879",
   "metadata": {},
   "outputs": [],
   "source": [
    "def check_accuracy(loader, model):\n",
    "    num_correct = 0\n",
    "    num_samples = 0\n",
    "    model.eval()\n",
    "    \n",
    "    with torch.no_grad():\n",
    "        for x, y in loader:\n",
    "            x = x.to(device = device)\n",
    "            y = y.to(device = device)\n",
    "            \n",
    "            scores = model(x)\n",
    "            _, predictions = scores.max(1)\n",
    "            num_correct += (predictions == y).sum()\n",
    "            num_samples += predictions.size(0)\n",
    "            \n",
    "        print(f'Got {num_correct} / {num_samples} with accuracy {float(num_correct)/float(num_samples)*100:.2f}')\n",
    "        model.train"
   ]
  },
  {
   "cell_type": "code",
   "execution_count": 7,
   "id": "c0f11192",
   "metadata": {},
   "outputs": [],
   "source": [
    "class TorchDataset(Dataset):\n",
    "    \n",
    "    def __init__(self, csv_path):\n",
    "        \n",
    "        self.df = torch.from_numpy(np.loadtxt(csv_path, delimiter=',', skiprows = 1))\n",
    "        \n",
    "    def __getitem__(self, idx):\n",
    "        \n",
    "        y = self.df[idx, 0].long()\n",
    "        x = self.df[idx, 1:].float()\n",
    "        return x, y\n",
    "    \n",
    "    def __len__(self):\n",
    "        return self.df.shape[0]"
   ]
  },
  {
   "cell_type": "code",
   "execution_count": 8,
   "id": "1805c322",
   "metadata": {},
   "outputs": [],
   "source": [
    "csv_path = \"C:/Users/nikit/Desktop/Учеба/rezume/train.csv\"\n",
    "data = TorchDataset(csv_path)"
   ]
  },
  {
   "cell_type": "code",
   "execution_count": 9,
   "id": "f0d709e6",
   "metadata": {},
   "outputs": [],
   "source": [
    "train_size = int(0.6 * len(data))\n",
    "test_size = len(data) - train_size\n",
    "train_dataset, test_dataset = random_split(data, [train_size, test_size])"
   ]
  },
  {
   "cell_type": "code",
   "execution_count": 10,
   "id": "bc7172f8",
   "metadata": {},
   "outputs": [],
   "source": [
    "train_loader = DataLoader(dataset = train_dataset, drop_last = True, batch_size=64, shuffle=True)\n",
    "test_loader = DataLoader(dataset = test_dataset, drop_last = True, batch_size=64, shuffle=True)"
   ]
  },
  {
   "cell_type": "code",
   "execution_count": 17,
   "id": "b7c922c0",
   "metadata": {},
   "outputs": [],
   "source": [
    "num_epochs = 30\n",
    "def fit(train_loader, num_epochs, model, criterion, optimizer):\n",
    "    for epoch in range(num_epochs):\n",
    "        for batch_idx, (data,targets) in enumerate(train_loader):\n",
    "            data = data.to(device)\n",
    "            targets = targets.to(device)\n",
    "            optimizer.zero_grad()\n",
    "            scores = model(data)\n",
    "            loss = criterion(scores, targets)\n",
    "\n",
    "            loss.backward()\n",
    "\n",
    "            optimizer.step()"
   ]
  },
  {
   "cell_type": "code",
   "execution_count": 12,
   "id": "9b18a77e",
   "metadata": {},
   "outputs": [],
   "source": [
    "# fit(train_loader, num_epochs, model, criterion, optimizer)\n",
    "# check_accuracy(train_loader, model)\n",
    "# check_accuracy(test_loader, model)"
   ]
  },
  {
   "cell_type": "code",
   "execution_count": 40,
   "id": "b15ce364",
   "metadata": {},
   "outputs": [],
   "source": [
    "#creating submission file\n",
    "model_final = Net().to(device)\n",
    "optimizer_final = optim.Adam(model_final.parameters(), lr = learning_rate)\n",
    "test_path = \"C:/Users/nikit/Desktop/Учеба/rezume/test.csv\"\n",
    "full_data = TorchDataset(csv_path)\n",
    "test_data = torch.from_numpy(np.loadtxt(test_path, delimiter=',', skiprows = 1)).to(device).float()\n",
    "train_loader_final = DataLoader(dataset = full_data, drop_last = True, batch_size=64, shuffle=True)\n",
    "test_loader_final = DataLoader(dataset = test_data, drop_last = False, batch_size=64, shuffle=False)\n",
    "fit(train_loader_final, num_epochs, model_final, criterion, optimizer_final)"
   ]
  },
  {
   "cell_type": "code",
   "execution_count": 38,
   "id": "637eeece",
   "metadata": {},
   "outputs": [
    {
     "name": "stdout",
     "output_type": "stream",
     "text": [
      "torch.Size([28000, 784])\n"
     ]
    }
   ],
   "source": [
    "print(test_data.shape)"
   ]
  },
  {
   "cell_type": "code",
   "execution_count": 21,
   "id": "f8437fc9",
   "metadata": {},
   "outputs": [],
   "source": [
    "def get_predictions(model, x):\n",
    "    model.eval()\n",
    "    \n",
    "    with torch.no_grad():     \n",
    "        scores = model(x)\n",
    "        model.train\n",
    "    return scores"
   ]
  },
  {
   "cell_type": "code",
   "execution_count": 49,
   "id": "62b0e66c",
   "metadata": {},
   "outputs": [],
   "source": [
    "scores, indicies = get_predictions(model_final, test_data).max(1)\n",
    "submission = pd.DataFrame({\"ImageId\" : np.arange(1, 28001), \"Label\" : indicies.to(\"cpu\")})"
   ]
  },
  {
   "cell_type": "code",
   "execution_count": 51,
   "id": "c372a946",
   "metadata": {},
   "outputs": [
    {
     "data": {
      "text/html": [
       "<div>\n",
       "<style scoped>\n",
       "    .dataframe tbody tr th:only-of-type {\n",
       "        vertical-align: middle;\n",
       "    }\n",
       "\n",
       "    .dataframe tbody tr th {\n",
       "        vertical-align: top;\n",
       "    }\n",
       "\n",
       "    .dataframe thead th {\n",
       "        text-align: right;\n",
       "    }\n",
       "</style>\n",
       "<table border=\"1\" class=\"dataframe\">\n",
       "  <thead>\n",
       "    <tr style=\"text-align: right;\">\n",
       "      <th></th>\n",
       "      <th>ImageId</th>\n",
       "      <th>Label</th>\n",
       "    </tr>\n",
       "  </thead>\n",
       "  <tbody>\n",
       "    <tr>\n",
       "      <th>0</th>\n",
       "      <td>1</td>\n",
       "      <td>2</td>\n",
       "    </tr>\n",
       "    <tr>\n",
       "      <th>1</th>\n",
       "      <td>2</td>\n",
       "      <td>0</td>\n",
       "    </tr>\n",
       "    <tr>\n",
       "      <th>2</th>\n",
       "      <td>3</td>\n",
       "      <td>9</td>\n",
       "    </tr>\n",
       "    <tr>\n",
       "      <th>3</th>\n",
       "      <td>4</td>\n",
       "      <td>2</td>\n",
       "    </tr>\n",
       "    <tr>\n",
       "      <th>4</th>\n",
       "      <td>5</td>\n",
       "      <td>3</td>\n",
       "    </tr>\n",
       "  </tbody>\n",
       "</table>\n",
       "</div>"
      ],
      "text/plain": [
       "   ImageId  Label\n",
       "0        1      2\n",
       "1        2      0\n",
       "2        3      9\n",
       "3        4      2\n",
       "4        5      3"
      ]
     },
     "execution_count": 51,
     "metadata": {},
     "output_type": "execute_result"
    }
   ],
   "source": [
    "submission.head()"
   ]
  },
  {
   "cell_type": "code",
   "execution_count": 52,
   "id": "184321f4",
   "metadata": {},
   "outputs": [],
   "source": [
    "submission.to_csv('submission.csv',index=False)"
   ]
  }
 ],
 "metadata": {
  "kernelspec": {
   "display_name": "Python 3 (ipykernel)",
   "language": "python",
   "name": "python3"
  },
  "language_info": {
   "codemirror_mode": {
    "name": "ipython",
    "version": 3
   },
   "file_extension": ".py",
   "mimetype": "text/x-python",
   "name": "python",
   "nbconvert_exporter": "python",
   "pygments_lexer": "ipython3",
   "version": "3.9.7"
  }
 },
 "nbformat": 4,
 "nbformat_minor": 5
}
